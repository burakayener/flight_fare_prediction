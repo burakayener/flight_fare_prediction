{
 "cells": [
  {
   "cell_type": "code",
   "execution_count": 1,
   "metadata": {},
   "outputs": [],
   "source": [
    "from pipeline_helpers import *\n",
    "### Parameters for hyperparameter tuning\n",
    "\n",
    "rf_params = {\"max_depth\": [3,5,8, None], \"max_features\": [3,5,7], \"n_estimators\": [100,200,500,1000], \"min_samples_split\": [2,5,10]}\n",
    "gbm_params = {\"learning_rate\": [0.001, 0.01, 0.1, 0.05], \"n_estimators\": [100,200,500,1000], \"max_depth\": [3,5,8, None]}\n",
    "et_params = {\"max_depth\": [3,5,8, None], \"max_features\": [3,5,7], \"n_estimators\": [100,200,500,1000], \"min_samples_split\": [2,5,10]}\n",
    "\n",
    "### Regressors that will be used in the ensemble model\n",
    "\n",
    "regressors = [('RF', RandomForestRegressor(), rf_params),\n",
    "             ('GBM', GradientBoostingRegressor(), gbm_params),\n",
    "             ('ET', ExtraTreesRegressor(), et_params)]\n"
   ]
  },
  {
   "cell_type": "code",
   "execution_count": 2,
   "metadata": {},
   "outputs": [],
   "source": [
    "def main():\n",
    "    df = pd.read_excel(\"Data_Train.xlsx\")\n",
    "    X, y = flight_data_prep(df)\n",
    "    base_models(X, y)\n",
    "    best_models = hyperparameter_optimization(X, y)\n",
    "    voting_reg = voting_regressor(X=X, y=y, best_models=best_models)\n",
    "    joblib.dump(voting_reg, \"voting_reg.pkl\")\n",
    "    return voting_reg"
   ]
  },
  {
   "cell_type": "code",
   "execution_count": 3,
   "metadata": {},
   "outputs": [
    {
     "name": "stdout",
     "output_type": "stream",
     "text": [
      "Process Started\n",
      "Observations: 10683\n",
      "Variables: 11\n",
      "cat_cols: 5\n",
      "num_cols: 1\n",
      "cat_but_car: 5\n",
      "num_but_cat: 0\n",
      "Base Models:\n",
      "r2: 0.5814 (LR\n",
      "r2: 0.6086 (KNN\n",
      "r2: 0.1898 (SVR\n",
      "r2: 0.6985 (CART\n",
      "r2: 0.8055 (RF\n",
      "r2: 0.6423 (AdaBoost\n",
      "r2: 0.7748 (ET\n",
      "r2: 0.6275 (AB\n",
      "r2: 0.7693 (GBM\n",
      "Hyperparameter Optimization\n",
      "############# RF#############\n",
      "r2 (Before): 0.8051\n",
      "r2 (After): 0.8378\n",
      "RF best params: {'max_depth': None, 'max_features': 7, 'min_samples_split': 10, 'n_estimators': 1000} \n",
      "\n",
      "\n",
      "############# GBM#############\n",
      "r2 (Before): 0.7693\n",
      "r2 (After): 0.8371\n",
      "GBM best params: {'learning_rate': 0.05, 'max_depth': 5, 'n_estimators': 1000} \n",
      "\n",
      "\n",
      "############# ET#############\n",
      "r2 (Before): 0.7745\n",
      "r2 (After): 0.8242\n",
      "ET best params: {'max_depth': None, 'max_features': 7, 'min_samples_split': 10, 'n_estimators': 1000} \n",
      "\n",
      "\n",
      "Voting Regressor\n",
      "Voting Regressor Scores \n",
      " 2922748.364242098 0.841092415041534 1144.417883184342\n"
     ]
    }
   ],
   "source": [
    "if __name__ == \"__main__\":\n",
    "    print(\"Process Started\")\n",
    "    main()"
   ]
  },
  {
   "cell_type": "code",
   "execution_count": 4,
   "metadata": {},
   "outputs": [],
   "source": [
    "model = joblib.load(\"voting_reg.pkl\")"
   ]
  },
  {
   "cell_type": "code",
   "execution_count": 5,
   "metadata": {},
   "outputs": [
    {
     "name": "stdout",
     "output_type": "stream",
     "text": [
      "Observations: 10683\n",
      "Variables: 11\n",
      "cat_cols: 5\n",
      "num_cols: 1\n",
      "cat_but_car: 5\n",
      "num_but_cat: 0\n"
     ]
    }
   ],
   "source": [
    "df = pd.read_excel(\"Data_Train.xlsx\")\n",
    "X, y = flight_data_prep(df)\n",
    "X_train, X_test, y_train, y_test = train_test_split(X, y, test_size=0.20)"
   ]
  },
  {
   "cell_type": "code",
   "execution_count": 6,
   "metadata": {},
   "outputs": [],
   "source": [
    "y_pred = model.predict(X_test)"
   ]
  },
  {
   "cell_type": "code",
   "execution_count": 7,
   "metadata": {},
   "outputs": [],
   "source": [
    "y_pred = np.array(y_pred)"
   ]
  },
  {
   "cell_type": "code",
   "execution_count": 8,
   "metadata": {},
   "outputs": [],
   "source": [
    "y_test = np.array(y_test)"
   ]
  },
  {
   "cell_type": "code",
   "execution_count": 10,
   "metadata": {},
   "outputs": [
    {
     "data": {
      "text/plain": [
       "864.9101734423405"
      ]
     },
     "execution_count": 10,
     "metadata": {},
     "output_type": "execute_result"
    }
   ],
   "source": [
    "mean_absolute_error(y_test, y_pred)"
   ]
  },
  {
   "cell_type": "code",
   "execution_count": 12,
   "metadata": {},
   "outputs": [
    {
     "data": {
      "text/plain": [
       "0.09667413892624654"
      ]
     },
     "execution_count": 12,
     "metadata": {},
     "output_type": "execute_result"
    }
   ],
   "source": [
    "mean_absolute_percentage_error(y_test, y_pred)"
   ]
  }
 ],
 "metadata": {
  "kernelspec": {
   "display_name": "Python 3",
   "language": "python",
   "name": "python3"
  },
  "language_info": {
   "codemirror_mode": {
    "name": "ipython",
    "version": 3
   },
   "file_extension": ".py",
   "mimetype": "text/x-python",
   "name": "python",
   "nbconvert_exporter": "python",
   "pygments_lexer": "ipython3",
   "version": "3.7.4 (tags/v3.7.4:e09359112e, Jul  8 2019, 19:29:22) [MSC v.1916 32 bit (Intel)]"
  },
  "orig_nbformat": 4,
  "vscode": {
   "interpreter": {
    "hash": "39adadbe4064326ebff5fbb2129f358e18dae81052739f8e600d8bfa2816cc8c"
   }
  }
 },
 "nbformat": 4,
 "nbformat_minor": 2
}
