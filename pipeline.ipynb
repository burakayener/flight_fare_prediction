{
 "cells": [
  {
   "cell_type": "code",
   "execution_count": 1,
   "metadata": {},
   "outputs": [],
   "source": [
    "from pipeline_helpers import *\n",
    "### Parameters for hyperparameter tuning\n",
    "\n",
    "rf_params = {\"max_depth\": [3,5,8, None], \"max_features\": [3,5,7], \"n_estimators\": [100,200,500,1000], \"min_samples_split\": [2,5,10]}\n",
    "gbm_params = {\"learning_rate\": [0.001, 0.01, 0.1, 0.05], \"n_estimators\": [100,200,500,1000], \"max_depth\": [3,5,8, None]}\n",
    "et_params = {\"max_depth\": [3,5,8, None], \"max_features\": [3,5,7], \"n_estimators\": [100,200,500,1000], \"min_samples_split\": [2,5,10]}\n",
    "\n",
    "### Regressors that will be used in the ensemble model\n",
    "\n",
    "regressors = [('RF', RandomForestRegressor(), rf_params),\n",
    "             ('GBM', GradientBoostingRegressor(), gbm_params),\n",
    "             ('ET', ExtraTreesRegressor(), et_params)]\n"
   ]
  },
  {
   "cell_type": "code",
   "execution_count": 2,
   "metadata": {},
   "outputs": [],
   "source": [
    "def main():\n",
    "    df = pd.read_excel(\"Data_Train.xlsx\")\n",
    "    X, y = flight_data_prep(df)\n",
    "    base_models(X, y)\n",
    "    best_models = hyperparameter_optimization(X, y)\n",
    "    voting_reg = voting_regressor(X=X, y=y, best_models=best_models)\n",
    "    joblib.dump(voting_reg, \"voting_reg.pkl\")\n",
    "    return voting_reg"
   ]
  },
  {
   "cell_type": "code",
   "execution_count": 3,
   "metadata": {},
   "outputs": [
    {
     "name": "stdout",
     "output_type": "stream",
     "text": [
      "Process Started\n",
      "Observations: 10683\n",
      "Variables: 11\n",
      "cat_cols: 5\n",
      "num_cols: 1\n",
      "cat_but_car: 5\n",
      "num_but_cat: 0\n",
      "Base Models:\n",
      "r2: 0.5812 (LR\n",
      "r2: 0.594 (KNN\n",
      "r2: 0.1644 (SVR\n",
      "r2: 0.7078 (CART\n",
      "r2: 0.8064 (RF\n",
      "r2: 0.6214 (AdaBoost\n",
      "r2: 0.7815 (ET\n",
      "r2: 0.6135 (AB\n",
      "r2: 0.7671 (GBM\n",
      "Hyperparameter Optimization\n",
      "############# RF#############\n",
      "r2 (Before): 0.8082\n",
      "r2 (After): 0.8319\n",
      "RF best params: {'max_depth': None, 'max_features': 7, 'min_samples_split': 10, 'n_estimators': 500} \n",
      "\n",
      "\n",
      "############# GBM#############\n",
      "r2 (Before): 0.7671\n",
      "r2 (After): 0.831\n",
      "GBM best params: {'learning_rate': 0.05, 'max_depth': 5, 'n_estimators': 1000} \n",
      "\n",
      "\n",
      "############# ET#############\n",
      "r2 (Before): 0.7801\n",
      "r2 (After): 0.8179\n",
      "ET best params: {'max_depth': None, 'max_features': 7, 'min_samples_split': 10, 'n_estimators': 1000} \n",
      "\n",
      "\n",
      "Voting Regressor\n",
      "Voting Regressor Scores\n",
      "MSE: 3016012.792979757\n",
      "R2: 0.8360147287849801\n",
      "MAE: 1163.7762692719396\n",
      "MAEP: 0.13197550607797692\n"
     ]
    }
   ],
   "source": [
    "if __name__ == \"__main__\":\n",
    "    print(\"Process Started\")\n",
    "    main()"
   ]
  },
  {
   "cell_type": "code",
   "execution_count": 4,
   "metadata": {},
   "outputs": [],
   "source": [
    "model = joblib.load(\"voting_reg.pkl\")"
   ]
  },
  {
   "cell_type": "code",
   "execution_count": 5,
   "metadata": {},
   "outputs": [
    {
     "name": "stdout",
     "output_type": "stream",
     "text": [
      "Observations: 10683\n",
      "Variables: 11\n",
      "cat_cols: 5\n",
      "num_cols: 1\n",
      "cat_but_car: 5\n",
      "num_but_cat: 0\n"
     ]
    }
   ],
   "source": [
    "df = pd.read_excel(\"Data_Train.xlsx\")\n",
    "X, y = flight_data_prep(df)\n",
    "X_train, X_test, y_train, y_test = train_test_split(X, y, test_size=0.20)"
   ]
  },
  {
   "cell_type": "code",
   "execution_count": 6,
   "metadata": {},
   "outputs": [],
   "source": [
    "y_pred = model.predict(X_test)"
   ]
  },
  {
   "cell_type": "code",
   "execution_count": 7,
   "metadata": {},
   "outputs": [],
   "source": [
    "y_pred = np.array(y_pred)"
   ]
  },
  {
   "cell_type": "code",
   "execution_count": 8,
   "metadata": {},
   "outputs": [],
   "source": [
    "y_test = np.array(y_test)"
   ]
  },
  {
   "cell_type": "code",
   "execution_count": 9,
   "metadata": {},
   "outputs": [
    {
     "data": {
      "text/plain": [
       "0.0964787697524042"
      ]
     },
     "execution_count": 9,
     "metadata": {},
     "output_type": "execute_result"
    }
   ],
   "source": [
    "mean_absolute_percentage_error(y_test, y_pred)"
   ]
  },
  {
   "cell_type": "code",
   "execution_count": 10,
   "metadata": {},
   "outputs": [
    {
     "data": {
      "text/plain": [
       "838.890379660403"
      ]
     },
     "execution_count": 10,
     "metadata": {},
     "output_type": "execute_result"
    }
   ],
   "source": [
    "mean_absolute_error(y_test, y_pred)"
   ]
  }
 ],
 "metadata": {
  "kernelspec": {
   "display_name": "Python 3",
   "language": "python",
   "name": "python3"
  },
  "language_info": {
   "codemirror_mode": {
    "name": "ipython",
    "version": 3
   },
   "file_extension": ".py",
   "mimetype": "text/x-python",
   "name": "python",
   "nbconvert_exporter": "python",
   "pygments_lexer": "ipython3",
   "version": "3.7.4"
  },
  "orig_nbformat": 4,
  "vscode": {
   "interpreter": {
    "hash": "39adadbe4064326ebff5fbb2129f358e18dae81052739f8e600d8bfa2816cc8c"
   }
  }
 },
 "nbformat": 4,
 "nbformat_minor": 2
}
